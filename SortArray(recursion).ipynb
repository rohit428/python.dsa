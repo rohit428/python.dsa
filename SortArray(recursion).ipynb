{
  "nbformat": 4,
  "nbformat_minor": 0,
  "metadata": {
    "colab": {
      "provenance": [],
      "authorship_tag": "ABX9TyM6JEjDnF9lBPgSoa46XECn",
      "include_colab_link": true
    },
    "kernelspec": {
      "name": "python3",
      "display_name": "Python 3"
    },
    "language_info": {
      "name": "python"
    }
  },
  "cells": [
    {
      "cell_type": "markdown",
      "metadata": {
        "id": "view-in-github",
        "colab_type": "text"
      },
      "source": [
        "<a href=\"https://colab.research.google.com/github/rohit428/python.dsa/blob/main/SortArray(recursion).ipynb\" target=\"_parent\"><img src=\"https://colab.research.google.com/assets/colab-badge.svg\" alt=\"Open In Colab\"/></a>"
      ]
    },
    {
      "cell_type": "code",
      "execution_count": 26,
      "metadata": {
        "colab": {
          "base_uri": "https://localhost:8080/"
        },
        "id": "l4EbgxT6s92A",
        "outputId": "304f3240-4fb5-47e4-ca14-a73b9a91f406"
      },
      "outputs": [
        {
          "output_type": "stream",
          "name": "stdout",
          "text": [
            "Stack elements before sorting: \n",
            "-3 14 18 -5 30 \n",
            "\n",
            "Stack elements after sorting: \n",
            "30 18 14 -3 -5 \n"
          ]
        }
      ],
      "source": [
        "#sort an array using recursion \n",
        "def insert(stack,ele):\n",
        "  if len(stack)==0 or ele>stack[-1]:\n",
        "    stack.append(ele)\n",
        "    return\n",
        "  else:\n",
        "    temp = stack.pop()#rmove top item \n",
        "    insert(stack,ele)\n",
        "    stack.append(temp)  #insert the poped item i.e temp\n",
        "\n",
        "def sort(stack):\n",
        "  if len(stack)!= 0:   #if stack is not empty\n",
        "    temp = stack.pop()  #pop the top item\n",
        "    sort(stack)       #sort the remainning stack\n",
        "    insert(stack,temp) #push the top back into place\n",
        "\n",
        "def printStack(stack):\n",
        "    for i in stack[::-1]:\n",
        "        print(i, end=\" \")\n",
        "    print()\n",
        " \n",
        " \n",
        "# Driver Code\n",
        "if __name__ == '__main__':\n",
        "    stack = []\n",
        "    stack.append(30)\n",
        "    stack.append(-5)\n",
        "    stack.append(18)\n",
        "    stack.append(14)\n",
        "    stack.append(-3)\n",
        " \n",
        "    print(\"Stack elements before sorting: \")\n",
        "    printStack(stack)\n",
        " \n",
        "    sort(stack)\n",
        " \n",
        "    print(\"\\nStack elements after sorting: \")\n",
        "    printStack(stack)\n",
        " \n",
        "\n",
        "\n",
        "             \n",
        "\n",
        "                       \n",
        "      \n",
        "\n",
        "  \n",
        "\n",
        "  \n",
        "\n",
        "\n",
        "\n"
      ]
    },
    {
      "cell_type": "code",
      "source": [],
      "metadata": {
        "colab": {
          "base_uri": "https://localhost:8080/"
        },
        "id": "3vTnOxS9xog2",
        "outputId": "36686fd3-0842-4062-ab67-98f3a8e576c9"
      },
      "execution_count": 18,
      "outputs": [
        {
          "output_type": "stream",
          "name": "stdout",
          "text": [
            "[0, 1, 2, 3]\n"
          ]
        }
      ]
    },
    {
      "cell_type": "code",
      "source": [],
      "metadata": {
        "id": "c95uuQx52qPh"
      },
      "execution_count": null,
      "outputs": []
    }
  ]
}