{
  "nbformat": 4,
  "nbformat_minor": 0,
  "metadata": {
    "colab": {
      "name": "linked_list.ipynb",
      "provenance": [],
      "authorship_tag": "ABX9TyN2cl9MR+H2ASmjVNNZMdlQ",
      "include_colab_link": true
    },
    "kernelspec": {
      "name": "python3",
      "display_name": "Python 3"
    },
    "language_info": {
      "name": "python"
    }
  },
  "cells": [
    {
      "cell_type": "markdown",
      "metadata": {
        "id": "view-in-github",
        "colab_type": "text"
      },
      "source": [
        "<a href=\"https://colab.research.google.com/github/rohit428/python.dsa/blob/main/linked_list.ipynb\" target=\"_parent\"><img src=\"https://colab.research.google.com/assets/colab-badge.svg\" alt=\"Open In Colab\"/></a>"
      ]
    },
    {
      "cell_type": "code",
      "execution_count": 27,
      "metadata": {
        "id": "UQc-h7R0ts3T"
      },
      "outputs": [],
      "source": [
        "#implementation of Linked List\n",
        "class Node:\n",
        "  def __init__(self,data):\n",
        "    self.data=data\n",
        "    self.ref=None \n",
        "class Linked_list:\n",
        "  def __init__(self):\n",
        "    self.head=None\n",
        "  def print_LL(self) : \n",
        "     if self.head is None :\n",
        "       print(\"Linked list is empty\")\n",
        "     else:\n",
        "       n = self.head\n",
        "       while n is not None:\n",
        "          print(n.data)\n",
        "          n = n.ref\n",
        "  def add_begin(self,data):\n",
        "    new_node = Node(data)\n",
        "    new_node.ref = self.head\n",
        "    self.head = new_node\n",
        "\n",
        "  def add_end(self,data):\n",
        "    new_node = Node(data)   \n",
        "    if self.head is None:\n",
        "       self.head = new_node\n",
        "    else:\n",
        "       n = self.head\n",
        "       while n.ref is not None:\n",
        "         n = n.ref\n",
        "       n.ref=new_node   \n",
        "  def add_after(self,data,x):\n",
        "    n = self.head\n",
        "    while n is not None:\n",
        "      if x == n.data:\n",
        "        break\n",
        "      n = n.ref\n",
        "    if n is None:\n",
        "      print(\"x is not in the linked list\")\n",
        "    else: \n",
        "      new_node = Node(data)\n",
        "      new_node.ref = n.ref\n",
        "      n.ref = new_node\n",
        "  def add_before(self,data,x):\n",
        "      if self.head is None:\n",
        "        print(\"Linked List is empty\")\n",
        "        return \n",
        "      if self.head.data == x:\n",
        "        new_node = Node(data)\n",
        "        new_node.ref = self.head\n",
        "        self.head = new_node\n",
        "        return\n",
        "      n =self.head\n",
        "      while n.ref is not None:\n",
        "        if n.ref.data == x:\n",
        "          break\n",
        "        n = n.ref\n",
        "      if n.ref is None:\n",
        "        print(\"x is not in the Linked list\")\n",
        "      else: \n",
        "        new_node = Node(data)\n",
        "        new_node.ref = n.ref\n",
        "        n.ref = new_node        \n",
        "\n",
        "\n",
        "\n",
        "\n",
        "\n",
        "\n",
        "\n",
        "\n"
      ]
    },
    {
      "cell_type": "code",
      "source": [
        "#for adding element from first\n",
        "LL1 = Linked_list()\n",
        "LL1.add_begin(10)\n",
        "LL1.add_begin(20)\n",
        "LL1.add_begin(30)\n",
        "LL1.print_LL()"
      ],
      "metadata": {
        "colab": {
          "base_uri": "https://localhost:8080/"
        },
        "id": "rIQeJWOfujXG",
        "outputId": "407caab4-45ff-47b1-d5e1-ea0518cc9de6"
      },
      "execution_count": 28,
      "outputs": [
        {
          "output_type": "stream",
          "name": "stdout",
          "text": [
            "30\n",
            "20\n",
            "10\n"
          ]
        }
      ]
    },
    {
      "cell_type": "code",
      "source": [
        "#for adding element from last\n",
        "LL2 = Linked_list()\n",
        "LL2.add_end(10)\n",
        "LL2.add_end(20)\n",
        "LL2.add_end(30)\n",
        "\n",
        "LL2.print_LL()"
      ],
      "metadata": {
        "colab": {
          "base_uri": "https://localhost:8080/"
        },
        "id": "bi_iEnBmuol5",
        "outputId": "d35008d4-0f45-4977-aeda-80b3f2627e4f"
      },
      "execution_count": 29,
      "outputs": [
        {
          "output_type": "stream",
          "name": "stdout",
          "text": [
            "10\n",
            "20\n",
            "30\n"
          ]
        }
      ]
    },
    {
      "cell_type": "code",
      "source": [
        "#for adding element after the node\n",
        "LL2.add_after(200, 20)\n",
        "LL2.print_LL()  "
      ],
      "metadata": {
        "colab": {
          "base_uri": "https://localhost:8080/"
        },
        "id": "tahPpGy9uzlg",
        "outputId": "4b2653f0-ca0a-4c98-e279-35b134348ca7"
      },
      "execution_count": 30,
      "outputs": [
        {
          "output_type": "stream",
          "name": "stdout",
          "text": [
            "10\n",
            "20\n",
            "200\n",
            "30\n"
          ]
        }
      ]
    },
    {
      "cell_type": "code",
      "source": [
        "#for addinf element before the node\n",
        "LL2.add_before(250, 25)\n",
        "LL2.print_LL()\n"
      ],
      "metadata": {
        "colab": {
          "base_uri": "https://localhost:8080/"
        },
        "id": "6lDCJrXCk9fo",
        "outputId": "729785f1-2e6f-4005-8ce9-405de3e4c003"
      },
      "execution_count": 31,
      "outputs": [
        {
          "output_type": "stream",
          "name": "stdout",
          "text": [
            "x is not in the Linked list\n",
            "10\n",
            "20\n",
            "200\n",
            "30\n"
          ]
        }
      ]
    },
    {
      "cell_type": "code",
      "source": [
        ""
      ],
      "metadata": {
        "id": "bKISQuKswdBc"
      },
      "execution_count": 26,
      "outputs": []
    }
  ]
}