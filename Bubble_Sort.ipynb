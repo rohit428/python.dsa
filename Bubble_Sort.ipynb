{
  "nbformat": 4,
  "nbformat_minor": 0,
  "metadata": {
    "colab": {
      "name": "Bubble_Sort.ipynb",
      "provenance": [],
      "authorship_tag": "ABX9TyPRwpWaIUfVdm0KXQfxNR0r",
      "include_colab_link": true
    },
    "kernelspec": {
      "name": "python3",
      "display_name": "Python 3"
    },
    "language_info": {
      "name": "python"
    }
  },
  "cells": [
    {
      "cell_type": "markdown",
      "metadata": {
        "id": "view-in-github",
        "colab_type": "text"
      },
      "source": [
        "<a href=\"https://colab.research.google.com/github/rohit428/python.dsa/blob/main/Bubble_Sort.ipynb\" target=\"_parent\"><img src=\"https://colab.research.google.com/assets/colab-badge.svg\" alt=\"Open In Colab\"/></a>"
      ]
    },
    {
      "cell_type": "code",
      "execution_count": 1,
      "metadata": {
        "colab": {
          "base_uri": "https://localhost:8080/"
        },
        "id": "uM8bo6ErUdyb",
        "outputId": "62a310f3-174a-4dbd-d64f-61cf2f6fb74f"
      },
      "outputs": [
        {
          "output_type": "stream",
          "name": "stdout",
          "text": [
            "[5, 15, 20, 30, 50, 70, 90]\n"
          ]
        }
      ],
      "source": [
        "\"\"\"implementation of bubble sort algorithm \n",
        "   time complexity => 0(n^2)\"\"\"\n",
        "def bubble_sort(arr):\n",
        "  n = len(arr)\n",
        "  #traversing through all elements of arr\n",
        "  for i in range(n):\n",
        "   #last element is already in place1\n",
        "   for j in range(0,n-i-1):\n",
        "     if arr[j+1]<arr[j]:\n",
        "       arr[j],arr[j+1]=arr[j+1],arr[j]\n",
        "#driver code\n",
        "arr=[70,20,50,30,90,5,15]\n",
        "bubble_sort(arr)\n",
        "print(arr)       \n",
        "\n"
      ]
    }
  ]
}