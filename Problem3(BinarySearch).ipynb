{
  "nbformat": 4,
  "nbformat_minor": 0,
  "metadata": {
    "colab": {
      "name": "Problem3(BinarySearch).ipynb",
      "provenance": [],
      "authorship_tag": "ABX9TyNzflhl+Qz+0ZxvK89+5OXy",
      "include_colab_link": true
    },
    "kernelspec": {
      "name": "python3",
      "display_name": "Python 3"
    },
    "language_info": {
      "name": "python"
    }
  },
  "cells": [
    {
      "cell_type": "markdown",
      "metadata": {
        "id": "view-in-github",
        "colab_type": "text"
      },
      "source": [
        "<a href=\"https://colab.research.google.com/github/rohit428/python.dsa/blob/main/Problem3(BinarySearch).ipynb\" target=\"_parent\"><img src=\"https://colab.research.google.com/assets/colab-badge.svg\" alt=\"Open In Colab\"/></a>"
      ]
    },
    {
      "cell_type": "code",
      "execution_count": 2,
      "metadata": {
        "colab": {
          "base_uri": "https://localhost:8080/"
        },
        "id": "js6SE0ptE7_a",
        "outputId": "4626edc9-fc11-483e-c844-17eff3468103"
      },
      "outputs": [
        {
          "output_type": "stream",
          "name": "stdout",
          "text": [
            "2\n"
          ]
        }
      ],
      "source": [
        "\"\"\"Program to search single element in a Sorted array\"\"\"\n",
        "def BinarySearch(arr,low,high):\n",
        "  if low > high :\n",
        "    return None\n",
        "  if low == high :\n",
        "    return arr[low]\n",
        "  \n",
        "  mid = low + (high - low)//2\n",
        "  \n",
        "  #if mid is even and element nxt to it is same then the target element lies on right side ,OR else left side\n",
        "  if mid%2 == 0:\n",
        "    if arr[mid] == arr[mid+1]:\n",
        "      return BinarySearch(arr,mid+2,high)\n",
        "    else:\n",
        "      return BinarySearch(arr,low,mid)\n",
        "  #if mid is odd and element bearr = [1, 1, 2, 4, 4, 5, 5, 6, 6]fore is same as mid then target element lies on Right side , OR else left side \n",
        "  else:\n",
        "    if arr[mid] == arr[mid-1]:\n",
        "       return BinarySearch(arr,mid+1,high)\n",
        "    else:\n",
        "       return BinarySearch(arr,low,mid-1)\n",
        "#Driver Code\n",
        "#Test Case\n",
        "arr = [1, 1, 2, 4, 4, 5, 5, 6, 6]\n",
        "result = BinarySearch(arr,0, len(arr))\n",
        "print(result)\n",
        "\n",
        "\n"
      ]
    },
    {
      "cell_type": "code",
      "source": [],
      "metadata": {
        "id": "2UoIGGXfPudG"
      },
      "execution_count": null,
      "outputs": []
    }
  ]
}