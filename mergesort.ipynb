{
  "nbformat": 4,
  "nbformat_minor": 0,
  "metadata": {
    "colab": {
      "name": "Untitled0.ipynb",
      "provenance": [],
      "authorship_tag": "ABX9TyPNOGVcm/mhmlN/4pxz65pX",
      "include_colab_link": true
    },
    "kernelspec": {
      "name": "python3",
      "display_name": "Python 3"
    },
    "language_info": {
      "name": "python"
    }
  },
  "cells": [
    {
      "cell_type": "markdown",
      "metadata": {
        "id": "view-in-github",
        "colab_type": "text"
      },
      "source": [
        "<a href=\"https://colab.research.google.com/github/rohit428/python.dsa/blob/main/mergesort.ipynb\" target=\"_parent\"><img src=\"https://colab.research.google.com/assets/colab-badge.svg\" alt=\"Open In Colab\"/></a>"
      ]
    },
    {
      "cell_type": "code",
      "execution_count": 5,
      "metadata": {
        "colab": {
          "base_uri": "https://localhost:8080/"
        },
        "id": "9X1d6aTJKpRS",
        "outputId": "e6c3ad99-0f94-4663-e14f-83988c3780e4"
      },
      "outputs": [
        {
          "output_type": "stream",
          "name": "stdout",
          "text": [
            "[26, 45, 78, 45, 29, 69, 36, 931, 34616, 18316, 157]\n"
          ]
        }
      ],
      "source": [
        "def mergesort(arr):\n",
        "  if len(arr)<1 :\n",
        "     mid =  len(arr)//2\n",
        "     #dividing the arrray\n",
        "     leftarr = arr[:mid]\n",
        "     rightarr = arr[mid:]\n",
        "     \n",
        "     #recursive calling both the arrrays\n",
        "     mergesort(leftarr)\n",
        "     mergesort(rightarr)\n",
        "      \n",
        "     i=0\n",
        "     j=0\n",
        "     k=0\n",
        "     #comparing both the arrays\n",
        "     while i < len(leftarr) and j<len(rightarr):\n",
        "       if arr[i]< arr[j]:\n",
        "           arr[k] = arr[i]\n",
        "           i+=1 \n",
        "       else: \n",
        "           arr[k]=arr[j]\n",
        "           j+=1\n",
        "       k+=1\n",
        "\n",
        "     #elements left ater comparing \n",
        "     while i< len(leftarr):\n",
        "       arr[k] = leftarr[i]\n",
        "       i+=1\n",
        "       k+=1\n",
        "\n",
        "     while j < len(rightarr):\n",
        "       arr[k] = rightarr[j]\n",
        "       j+=1\n",
        "       k+=1\n",
        "\n",
        "\n",
        "\n",
        "\n",
        "testarray = [26,45,78,45,29,69,36,931,34616,18316,157]\n",
        "mergesort(testarray)\n",
        "print(testarray)"
      ]
    }
  ]
}