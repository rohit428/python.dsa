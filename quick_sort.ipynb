{
  "nbformat": 4,
  "nbformat_minor": 0,
  "metadata": {
    "colab": {
      "name": "quick_sort.ipynb",
      "provenance": [],
      "authorship_tag": "ABX9TyM8XgLRK5jwqMt7H6zlCG7u",
      "include_colab_link": true
    },
    "kernelspec": {
      "name": "python3",
      "display_name": "Python 3"
    },
    "language_info": {
      "name": "python"
    }
  },
  "cells": [
    {
      "cell_type": "markdown",
      "metadata": {
        "id": "view-in-github",
        "colab_type": "text"
      },
      "source": [
        "<a href=\"https://colab.research.google.com/github/rohit428/python.dsa/blob/main/quick_sort.ipynb\" target=\"_parent\"><img src=\"https://colab.research.google.com/assets/colab-badge.svg\" alt=\"Open In Colab\"/></a>"
      ]
    },
    {
      "cell_type": "code",
      "execution_count": null,
      "metadata": {
        "id": "sD4NrB-1kcnA"
      },
      "outputs": [],
      "source": [
        "#implmentation of quicksort algorithm\n",
        "def partition(arr,p,q): #divide function\n",
        "  i = p\n",
        "  j = i+1\n",
        "  x = arr[p]   #pivot element\n",
        "  for i in range (p,q):\n",
        "    if arr[j] < arr[p]: #if current element is smaller\n",
        "      i+=1\n",
        "      arr[j],arr[i]=arr[i],arr[j]\n",
        "  arr[i],arr[p]= arr[p],arr[i]   #swapping to get pivot as nth smallest element\n",
        "  return i\n",
        "\n",
        "def quicksort(arr,p,q):\n",
        "  if p < q :\n",
        "    partition_posn = partition(arr,p,q)\n",
        "    quicksort(arr,p,partition_posn-1)\n",
        "    quicksort(arr,partition_posn+1,q)\n",
        "arr = [22,11,88,66,55,77,33,34]\n",
        "quicksort(arr,0,len(arr)-1)\n",
        "print(arr)\n",
        "\n",
        "\n",
        "\n",
        "\n"
      ]
    }
  ]
}