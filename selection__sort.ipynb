{
  "nbformat": 4,
  "nbformat_minor": 0,
  "metadata": {
    "colab": {
      "name": "selection _sort.ipynb",
      "provenance": [],
      "authorship_tag": "ABX9TyONTA+Nq3xb6UmEy9N2wjiO",
      "include_colab_link": true
    },
    "kernelspec": {
      "name": "python3",
      "display_name": "Python 3"
    },
    "language_info": {
      "name": "python"
    }
  },
  "cells": [
    {
      "cell_type": "markdown",
      "metadata": {
        "id": "view-in-github",
        "colab_type": "text"
      },
      "source": [
        "<a href=\"https://colab.research.google.com/github/rohit428/python.dsa/blob/main/selection__sort.ipynb\" target=\"_parent\"><img src=\"https://colab.research.google.com/assets/colab-badge.svg\" alt=\"Open In Colab\"/></a>"
      ]
    },
    {
      "cell_type": "code",
      "execution_count": 5,
      "metadata": {
        "colab": {
          "base_uri": "https://localhost:8080/"
        },
        "id": "qDmgF-U1Ji7z",
        "outputId": "f3b4ae18-20f2-452c-dd1e-b90c5df6d228"
      },
      "outputs": [
        {
          "output_type": "stream",
          "name": "stdout",
          "text": [
            "[16, 99, 11, 25, 38, 21, 44, 50]\n"
          ]
        }
      ],
      "source": [
        "\"\"\"implementation of selection sort algorithm\n",
        "    time complexity => O(n^2)\"\"\"\n",
        "def selection_sort(arr):\n",
        "  for i in range(0 , len(arr)-1):\n",
        "    #find the minimum array from unsorted array\n",
        "    min_index = 1\n",
        "    for j in range(i+1,len(arr)):\n",
        "      if arr[j] < arr[min_index]:\n",
        "        min_index = j\n",
        "      #swap the minimum element with the first element 1\n",
        "      #in the given array  \n",
        "      arr[i],arr[min_index]=arr[min_index],arr[i] \n",
        "#driver code\n",
        "arr = [50,25,38,44,99,16,11,21]\n",
        "selection_sort(arr) \n",
        "print(arr)     \n",
        "\n",
        "        \n",
        "      \n"
      ]
    }
  ]
}