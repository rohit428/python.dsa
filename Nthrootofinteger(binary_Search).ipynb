{
  "nbformat": 4,
  "nbformat_minor": 0,
  "metadata": {
    "colab": {
      "name": "Nthrootofinteger(binary Search).ipynb",
      "provenance": [],
      "authorship_tag": "ABX9TyN+FgGcmCj5esZHKLlswIP9",
      "include_colab_link": true
    },
    "kernelspec": {
      "name": "python3",
      "display_name": "Python 3"
    },
    "language_info": {
      "name": "python"
    }
  },
  "cells": [
    {
      "cell_type": "markdown",
      "metadata": {
        "id": "view-in-github",
        "colab_type": "text"
      },
      "source": [
        "<a href=\"https://colab.research.google.com/github/rohit428/python.dsa/blob/main/Nthrootofinteger(binary_Search).ipynb\" target=\"_parent\"><img src=\"https://colab.research.google.com/assets/colab-badge.svg\" alt=\"Open In Colab\"/></a>"
      ]
    },
    {
      "cell_type": "code",
      "execution_count": 8,
      "metadata": {
        "colab": {
          "base_uri": "https://localhost:8080/"
        },
        "id": "WGcgKzTp5mXq",
        "outputId": "4d6a76f5-8953-42fd-e064-c664b4c920ff"
      },
      "outputs": [
        {
          "output_type": "stream",
          "name": "stdout",
          "text": [
            "2.2360679775010794\n"
          ]
        }
      ],
      "source": [
        "\"\"\"Nth real root of an integer Program Using Binary search\"\"\"\n",
        "def GetNthroot(M,N):\n",
        "  M = float(M)\n",
        "  N = int(N)\n",
        "  if M > 0 and M < 1:  #initialising Search space for binary search\n",
        "    low = 0  \n",
        "    high = 1\n",
        "  else:\n",
        "    low = 1\n",
        "    high = M\n",
        "  epsilon = 0.000000001  #for approximation of the answers\n",
        "\n",
        "#do binary search\n",
        "  mid = low + high //2\n",
        "  while abs(mid**N - M) >= epsilon:\n",
        "    if mid**N > M:\n",
        "      high = mid\n",
        "    else:\n",
        "      low = mid\n",
        "    mid = (low + high)/2\n",
        "  print(mid) \n",
        "\n",
        "#Driver Code\n",
        "M = 5\n",
        "N = 2\n",
        "GetNthroot(M,N)       \n",
        "\n",
        " "
      ]
    },
    {
      "cell_type": "code",
      "source": [],
      "metadata": {
        "id": "kJz90kmfC1n9"
      },
      "execution_count": null,
      "outputs": []
    }
  ]
}