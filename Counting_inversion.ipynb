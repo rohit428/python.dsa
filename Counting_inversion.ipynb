{
  "nbformat": 4,
  "nbformat_minor": 0,
  "metadata": {
    "colab": {
      "name": "Counting_inversion.ipynb",
      "provenance": [],
      "authorship_tag": "ABX9TyPzC/e0gi/fM6ucnSmrXpku",
      "include_colab_link": true
    },
    "kernelspec": {
      "name": "python3",
      "display_name": "Python 3"
    },
    "language_info": {
      "name": "python"
    }
  },
  "cells": [
    {
      "cell_type": "markdown",
      "metadata": {
        "id": "view-in-github",
        "colab_type": "text"
      },
      "source": [
        "<a href=\"https://colab.research.google.com/github/rohit428/python.dsa/blob/main/Counting_inversion.ipynb\" target=\"_parent\"><img src=\"https://colab.research.google.com/assets/colab-badge.svg\" alt=\"Open In Colab\"/></a>"
      ]
    },
    {
      "cell_type": "code",
      "execution_count": null,
      "metadata": {
        "id": "yj5XuyuLI9du"
      },
      "outputs": [],
      "source": [
        ""
      ]
    },
    {
      "cell_type": "code",
      "source": [
        "\"\"\"counting number of inversion (application of divide and conquer)\n",
        "  time compleity = o(n logn)\n",
        "  recuurence relation = t(n) = 2t(n/2)+ o(n)\"\"\"\n",
        "  #hacker rank question\n",
        "def count_inversion(arr):\n",
        "  n = len(arr)\n",
        "  if n == 1 :\n",
        "     return 0\n",
        "  n1 = n//2  \n",
        "  n2 = n - n1\n",
        "  arr1 = arr[:n1]  #divide\n",
        "  arr2 = arr[n1:]\n",
        "  ans = count_inversion(arr1)+count_inversion(arr2) #recursive calls (conquer)\n",
        "  i,j = 0,0\n",
        "  for k in range(n):\n",
        "      if i < n1 and (j>=n2 or arr1[i]<arr2[j]):\n",
        "        arr[k] = arr1[i]\n",
        "        ans += j\n",
        "        i +=1\n",
        "      elif j<n2 :\n",
        "        arr[k]=arr2[j]\n",
        "        j+=1\n",
        "  return ans\n",
        "\n",
        "\n",
        "\n",
        "\n",
        "\n",
        "    \n",
        "\n",
        "\n",
        "\n",
        "\n",
        "\n",
        "\n"
      ],
      "metadata": {
        "id": "paTno8qy5EYB"
      },
      "execution_count": null,
      "outputs": []
    }
  ]
}