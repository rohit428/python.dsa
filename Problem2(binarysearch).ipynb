{
  "nbformat": 4,
  "nbformat_minor": 0,
  "metadata": {
    "colab": {
      "name": "Problem2(binarysearch).ipynb",
      "provenance": [],
      "authorship_tag": "ABX9TyOSRZErUfYUI6uptC0MJ+Bb",
      "include_colab_link": true
    },
    "kernelspec": {
      "name": "python3",
      "display_name": "Python 3"
    },
    "language_info": {
      "name": "python"
    }
  },
  "cells": [
    {
      "cell_type": "markdown",
      "metadata": {
        "id": "view-in-github",
        "colab_type": "text"
      },
      "source": [
        "<a href=\"https://colab.research.google.com/github/rohit428/python.dsa/blob/main/Problem2(binarysearch).ipynb\" target=\"_parent\"><img src=\"https://colab.research.google.com/assets/colab-badge.svg\" alt=\"Open In Colab\"/></a>"
      ]
    },
    {
      "cell_type": "code",
      "execution_count": 2,
      "metadata": {
        "id": "YLFRYahwWZP6",
        "colab": {
          "base_uri": "https://localhost:8080/"
        },
        "outputId": "c85ff3b7-d0d5-4867-d0c9-d8dbbe0a8368"
      },
      "outputs": [
        {
          "output_type": "stream",
          "name": "stdout",
          "text": [
            "Median is 6.0\n"
          ]
        }
      ],
      "source": [
        "\"\"\"Program To Find Median of a Matrix of a row wise sorted array\"\"\"\n",
        "from ast import Return\n",
        "from bisect import bisect_right as upper_bound\n",
        "MAX = 100;\n",
        "def Medianofmatrix(m,r,c):   #function for findian median of the matrix\n",
        "   min_elm = m[0][0]\n",
        "   max_elm = 0\n",
        "   for i in range(r):  \n",
        "     if m[i][0] < min_elm :   \n",
        "       min_elm = m[i][0]           #finding minimum and maximum elements of the array\n",
        "     if m[i][c-1] > max_elm :\n",
        "       max_elm = m[i][c-1]\n",
        "   index_median = (r*c+1)//2   #index of the median when put in array format\n",
        "   while(min_elm < max_elm):\n",
        "     mid = min_elm + (max_elm - min_elm)/2\n",
        "     place = [0]               #will store the number of elements in the matrix which are <= mid\n",
        "\n",
        "     for i in range(r):               #count the number of elements <= mid\n",
        "       j = upper_bound(m[i],mid)\n",
        "       place[0] = place[0] + j\n",
        "\n",
        "       if place[0] < index_median:\n",
        "         min_elm = mid+1 \n",
        "       else:\n",
        "         max_elm = mid\n",
        "   print(\"Median is\", min_elm)      \n",
        "   return\n",
        "#Driver Code                                            \n",
        "r, c = 3, 3\n",
        " \n",
        "m = [ [1, 3, 5], [2, 6, 9], [3, 6, 9]]\n",
        "Medianofmatrix(m, r, c)\n",
        " \n",
        "\n",
        "\n"
      ]
    },
    {
      "cell_type": "code",
      "source": [],
      "metadata": {
        "id": "dR2gT9QkqI-_"
      },
      "execution_count": null,
      "outputs": []
    }
  ]
}