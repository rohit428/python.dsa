{
  "nbformat": 4,
  "nbformat_minor": 0,
  "metadata": {
    "colab": {
      "name": "Doubly_linked_list.ipynb",
      "provenance": [],
      "authorship_tag": "ABX9TyP/vXMTq90xT3n5Hv3RRBrl",
      "include_colab_link": true
    },
    "kernelspec": {
      "name": "python3",
      "display_name": "Python 3"
    },
    "language_info": {
      "name": "python"
    }
  },
  "cells": [
    {
      "cell_type": "markdown",
      "metadata": {
        "id": "view-in-github",
        "colab_type": "text"
      },
      "source": [
        "<a href=\"https://colab.research.google.com/github/rohit428/python.dsa/blob/main/Doubly_linked_list.ipynb\" target=\"_parent\"><img src=\"https://colab.research.google.com/assets/colab-badge.svg\" alt=\"Open In Colab\"/></a>"
      ]
    },
    {
      "cell_type": "code",
      "execution_count": 15,
      "metadata": {
        "id": "QKZMj2DeGt0b"
      },
      "outputs": [],
      "source": [
        "class Node:\n",
        "  def __init__(self,data):\n",
        "    self.data = data  #creates a newnode with all links to none \n",
        "    self.ref = None\n",
        "    self.nref = None\n",
        "    self.pref = None\n",
        "\n",
        "class Doubly_LL:\n",
        "  def __init__(self):\n",
        "    self.head = None   #initialising the head as None\n",
        "\n",
        "  def print_forward_LL(self):  #for printing the linked list from forward \n",
        "    if self.head is None:\n",
        "      print(\"linked list empty\")\n",
        "    else:\n",
        "      n = self.head \n",
        "      while n is not None:\n",
        "        print(n.data,\"-\")\n",
        "        n = n.ref\n",
        "  def print_reverse_LL(self): #for printing the linked list from backwards\n",
        "    if self.head is None:\n",
        "      print(\"linked list empty\")\n",
        "    else:\n",
        "      n = self.head \n",
        "      while n.nref is not None:  #function to go to last node\n",
        "        n = n.nref\n",
        "      while n is not None:\n",
        "        print(n.data,\"-\")\n",
        "        n = n.pref \n",
        "  def insert_empty(self,data): #function if the dll is empty\n",
        "    if self.head is not None:\n",
        "      new_node = Node(data) \n",
        "      self.head = new_node\n",
        "    else:\n",
        "      print(\"Linked list is empty\")        \n",
        "  def add_begin(self,data):  #function for adding the elements at beginning\n",
        "    new_node = Node(data)\n",
        "    if self.head is None:\n",
        "      self.head = new_node\n",
        "    else:\n",
        "      new_node.nref = self.head\n",
        "      self.head.pref = new_node\n",
        "      self.head = new_node  \n",
        "  def add_end(self,data):   #function for adding the element from ending\n",
        "      new_node = Node(data)  \n",
        "      if self.head is None:\n",
        "        self.head = new_node  \n",
        "      else:\n",
        "        n = self.head \n",
        "        while n.nref is not None:\n",
        "           n = n.nref\n",
        "        n.nref = new_node\n",
        "        new_node.pref = n      \n",
        "\n",
        "\n",
        "    \n",
        "     \n",
        "     \n",
        "\n",
        "\n"
      ]
    },
    {
      "cell_type": "code",
      "source": [
        "Dl1 = Doubly_LL()\n",
        "Dl1.add_begin(20)\n",
        "Dl1.add_begin(30)\n",
        "Dl1.add_begin(40)\n",
        "Dl1.print_reverse_LL()"
      ],
      "metadata": {
        "colab": {
          "base_uri": "https://localhost:8080/"
        },
        "id": "gwTsT4PSHFbk",
        "outputId": "8f9f7d12-db48-4ad5-c890-b715bdc61c8f"
      },
      "execution_count": 16,
      "outputs": [
        {
          "output_type": "stream",
          "name": "stdout",
          "text": [
            "20 -\n",
            "30 -\n",
            "40 -\n"
          ]
        }
      ]
    },
    {
      "cell_type": "code",
      "source": [
        "Dl1.print_forward_LL()"
      ],
      "metadata": {
        "colab": {
          "base_uri": "https://localhost:8080/"
        },
        "id": "J6fYEvCKWuw-",
        "outputId": "3d8cba1b-0117-4062-97ca-043f3e1249a5"
      },
      "execution_count": 17,
      "outputs": [
        {
          "output_type": "stream",
          "name": "stdout",
          "text": [
            "40 -\n"
          ]
        }
      ]
    },
    {
      "cell_type": "code",
      "source": [
        ""
      ],
      "metadata": {
        "id": "dNZrOlm1XQAe"
      },
      "execution_count": null,
      "outputs": []
    }
  ]
}